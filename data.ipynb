{
 "cells": [
  {
   "cell_type": "code",
   "execution_count": null,
   "metadata": {},
   "outputs": [],
   "source": [
    "from music21 import midi, converter\n",
    "# from music21.midi.realtime import StreamPlayer"
   ]
  },
  {
   "cell_type": "markdown",
   "metadata": {},
   "source": [
    "## Utils"
   ]
  },
  {
   "cell_type": "code",
   "execution_count": null,
   "metadata": {},
   "outputs": [],
   "source": [
    "music_file_path = \"Music/{}.mid\""
   ]
  },
  {
   "cell_type": "code",
   "execution_count": null,
   "metadata": {},
   "outputs": [],
   "source": [
    "def analyze_midi_score(midi_score):\n",
    "    try:\n",
    "        # Iterate through MIDI tracks and events\n",
    "        for part_idx, part in enumerate(midi_score.parts):\n",
    "            print(f\"Track {part_idx + 1}:\")\n",
    "\n",
    "            for event in part.flat.notesAndRests:\n",
    "                if event.isNote:\n",
    "                    # Extract note information\n",
    "                    note = event.pitch\n",
    "                    duration = event.duration\n",
    "                    print(f\"Note: Pitch={note}, Duration={duration.quarterLength}\")\n",
    "\n",
    "                elif event.isStream and 'Instrument' in event.classes:\n",
    "                    # Handle instrument changes\n",
    "                    instrument = event.instrumentName\n",
    "                    print(f\"Instrument Change: {instrument}\")\n",
    "\n",
    "    except Exception as e:\n",
    "        print(f\"Error: {e}\")"
   ]
  },
  {
   "cell_type": "markdown",
   "metadata": {},
   "source": [
    "## Main Code"
   ]
  },
  {
   "cell_type": "code",
   "execution_count": null,
   "metadata": {},
   "outputs": [],
   "source": [
    "mond_3 = music_file_path.format('mond_3')"
   ]
  },
  {
   "cell_type": "code",
   "execution_count": null,
   "metadata": {},
   "outputs": [],
   "source": [
    "# Load the MIDI file and show the summary\n",
    "midi_stream = midi.MidiFile()\n",
    "midi_stream.open(mond_3)\n",
    "midi_stream.read()\n",
    "midi_stream.close()\n",
    "\n",
    "midi_score = converter.parse(mond_3)\n",
    "\n",
    "# midi_stream.tracks[0].events"
   ]
  },
  {
   "cell_type": "code",
   "execution_count": null,
   "metadata": {},
   "outputs": [],
   "source": [
    "analyze_midi_score(midi_score)"
   ]
  },
  {
   "cell_type": "code",
   "execution_count": null,
   "metadata": {},
   "outputs": [],
   "source": [
    "print(\"Number of Parts:\", len(midi_score.parts))\n",
    "for part in midi_score.parts:\n",
    "    print(\"Part:\", part.partName)\n",
    "    for element in part.notes:\n",
    "        print(element)"
   ]
  },
  {
   "cell_type": "code",
   "execution_count": null,
   "metadata": {},
   "outputs": [],
   "source": [
    "midi_score.show('midi')"
   ]
  },
  {
   "cell_type": "code",
   "execution_count": null,
   "metadata": {},
   "outputs": [],
   "source": []
  }
 ],
 "metadata": {
  "kernelspec": {
   "display_name": "Python 3",
   "language": "python",
   "name": "python3"
  },
  "language_info": {
   "codemirror_mode": {
    "name": "ipython",
    "version": 3
   },
   "file_extension": ".py",
   "mimetype": "text/x-python",
   "name": "python",
   "nbconvert_exporter": "python",
   "pygments_lexer": "ipython3",
   "version": "3.10.12"
  }
 },
 "nbformat": 4,
 "nbformat_minor": 2
}
