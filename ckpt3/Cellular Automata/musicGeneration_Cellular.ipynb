{
 "cells": [
  {
   "cell_type": "code",
   "execution_count": 188,
   "metadata": {},
   "outputs": [],
   "source": [
    "from music21 import *\n",
    "import itertools\n",
    "import random\n",
    "import numpy as np\n",
    "import matplotlib.pyplot as plt"
   ]
  },
  {
   "cell_type": "code",
   "execution_count": 189,
   "metadata": {},
   "outputs": [],
   "source": [
    "random.seed(42)"
   ]
  },
  {
   "cell_type": "code",
   "execution_count": 190,
   "metadata": {},
   "outputs": [],
   "source": [
    "def create_ca1D(length, init, rules):\n",
    "    ncells = len(init)\n",
    "    array = [[0] * ncells for _ in range(length)]\n",
    "    array[0] = init\n",
    "\n",
    "    for i in range(1, length):\n",
    "        for j in range(ncells):\n",
    "            if j != (ncells - 1) and j != (ncells - 2):\n",
    "                ca_at = (array[i-1][j-2], array[i-1][j-1], array[i-1][j], array[i-1][j+1], array[i-1][j+2])\n",
    "            elif j == ncells - 2:\n",
    "                ca_at = (array[i-1][j-2], array[i-1][j-1], array[i-1][j], array[i-1][j+1], array[i-1][0])\n",
    "            elif j == ncells - 1:\n",
    "                ca_at = (array[i-1][j-2], array[i-1][j-1], array[i-1][j], array[i-1][0], array[i-1][1])\n",
    "            if ca_at in rules:\n",
    "                array[i][j] = 1\n",
    "        array[i][np.random.randint(trimlimits1[0], trimlimits1[1])] = 1\n",
    "        array[i][np.random.randint(trimlimits1[0] - 4, trimlimits1[1] + 4)] = 0\n",
    "\n",
    "        if i % 50 == 0:\n",
    "            for j in range(trimlimits1[0], trimlimits1[1] + 1):\n",
    "                array[i][j] = np.random.randint(0,2)\n",
    "\n",
    "            \n",
    "    return(array)"
   ]
  },
  {
   "cell_type": "code",
   "execution_count": 191,
   "metadata": {},
   "outputs": [],
   "source": [
    "def strip_ca1D(array, limits):\n",
    "    trim_indices = list(range(limits[0], limits[1]))\n",
    "    array_trim = []\n",
    "    for i in range(len(array)):\n",
    "        trim_i = []\n",
    "        for j in trim_indices:\n",
    "            trim_i.append(array[i][j])\n",
    "        array_trim.append(trim_i)\n",
    "    return(array_trim)"
   ]
  },
  {
   "cell_type": "code",
   "execution_count": 192,
   "metadata": {},
   "outputs": [],
   "source": [
    "def ca1D_to_stream(array, notes, durations, key_ = None):\n",
    "    nevents = len(array)\n",
    "    ncells = len(array[0])\n",
    "    durations_iterator = itertools.cycle(durations)\n",
    "\n",
    "    stream_ca = stream.Stream()\n",
    "    if key_ is not None:\n",
    "        stream_ca.keySignature = key.Key(key_)\n",
    "\n",
    "    for i in range(nevents):\n",
    "        notes_i = []\n",
    "        duration_i = next(durations_iterator)\n",
    "        for j in range(ncells):\n",
    "            if array[i][j] == 1:\n",
    "                notes_i.append(notes[j])\n",
    "        if len(notes_i) == 0:\n",
    "            stream_ca.append(note.Rest(quarterLength = duration_i))\n",
    "        elif len(notes_i) == 1:\n",
    "            stream_ca.append(note.Note(notes_i[0], quarterLength = duration_i))\n",
    "        else:\n",
    "            stream_ca.append(chord.Chord(notes_i, quarterLength = duration_i))\n",
    "    return(stream_ca)"
   ]
  },
  {
   "cell_type": "code",
   "execution_count": 193,
   "metadata": {},
   "outputs": [],
   "source": [
    "def chords_to_notes(stream_, select = 'lowest'):\n",
    "    chordless = stream.Stream()\n",
    "    for i in stream_.iter().notesAndRests:\n",
    "        if type(i) == type(chord.Chord()):\n",
    "            if select == 'highest':\n",
    "                n = i.notes[-1]\n",
    "            elif select == 'lowest':\n",
    "                n = i.notes[0]\n",
    "            elif select == 'random':\n",
    "                n = random.sample(i.notes, k = 1)\n",
    "            else:\n",
    "                print(\"select must be 'high', 'low' or 'random'\")\n",
    "        else:\n",
    "            n = i\n",
    "        chordless.append(n)\n",
    "    return(chordless)\n"
   ]
  },
  {
   "cell_type": "code",
   "execution_count": 194,
   "metadata": {},
   "outputs": [],
   "source": [
    "ca1D_rules = dict({\n",
    "    '018': [(1, 0, 0), (0, 0, 1)],\n",
    "    '022': [(1, 0, 0), (0, 1, 0), (0, 0, 1)], \n",
    "    '030': [(1, 0, 0), (0, 1, 1), (0, 1, 0), (0, 0, 1)],\n",
    "    '045': [(1, 0, 1), (0, 1, 1), (0, 1, 0), (0, 0, 0)],\n",
    "    '054': [(1, 0, 1), (1, 0, 0), (0, 1, 0), (0, 0, 1)],\n",
    "    '060': [(1, 0, 1), (1, 0, 0), (0, 1, 1), (0, 1, 0)],\n",
    "    '073': [(1, 1, 0), (0, 1, 1), (0, 0, 0)],\n",
    "    '102': [(1, 1, 0), (1, 0, 1), (0, 1, 0), (0, 0, 1)],\n",
    "    '105': [(1, 1, 0), (1, 0, 1), (0, 1, 1), (0, 0, 0)],\n",
    "    '110': [(1, 1, 0), (1, 0, 1), (0, 1, 1), (0, 1, 0), (0, 0, 1)],\n",
    "    '126': [(1, 1, 0), (1, 0, 1), (1, 0, 0), (0, 1, 1), (0, 1, 0), (0, 0, 1)],\n",
    "    '150': [(1, 1, 1), (1, 0, 0), (0, 1, 0), (0, 0, 1)],\n",
    "    '2959090333': [(1, 1, 1, 1, 1), (1, 1, 1, 0, 1), (1, 1, 1, 0, 0), (1, 0, 1, 1, 0), (1, 0, 1, 0, 1), (0, 1, 1, 0, 1), (0, 1, 0, 0, 1), (0, 0, 1, 1, 1), (0, 0, 1, 0, 0), (0, 0, 0, 1, 1), (0, 0, 0, 1, 0), (0, 0, 0, 0, 0)]\n",
    "})"
   ]
  },
  {
   "cell_type": "code",
   "execution_count": 195,
   "metadata": {},
   "outputs": [],
   "source": [
    "width = 50\n",
    "length = 24\n",
    "init = [0] * width\n",
    "init[width // 2] = 1\n",
    "\n",
    "# fig, axes = plt.subplots(2, 6, figsize = (10, 5))\n",
    "# fig.subplots_adjust(hspace=0.5)\n",
    "# axes = axes.flatten()\n",
    "# for i, rule in enumerate(ca1D_rules.keys()):\n",
    "#     ca_i = create_ca1D(length, init, ca1D_rules[rule])\n",
    "#     axes[i].matshow(np.array(ca_i).transpose(), cmap =\"binary\")\n",
    "#     axes[i].invert_yaxis()\n",
    "#     axes[i].set_title('rule ' + rule)\n",
    "#     axes[i].axis('off')"
   ]
  },
  {
   "cell_type": "code",
   "execution_count": 196,
   "metadata": {},
   "outputs": [
    {
     "data": {
      "text/plain": [
       "Text(2, 58, 'Bass')"
      ]
     },
     "execution_count": 196,
     "metadata": {},
     "output_type": "execute_result"
    },
    {
     "data": {
      "image/png": "[encoded data removed]",
      "text/plain": [
       "<Figure size 360x360 with 1 Axes>"
      ]
     },
     "metadata": {
      "image/png": {
       "height": 307,
       "width": 241
      },
      "needs_background": "light"
     },
     "output_type": "display_data"
    }
   ],
   "source": [
    "ca1_rule = ca1D_rules['2959090333']\n",
    "width1 = 200\n",
    "length1 = 136\n",
    "init = [0] * width1\n",
    "init[width1 // 2] = 1\n",
    "init[np.random.randint(0, width)] = 1\n",
    "init[np.random.randint(0, width)] = 1\n",
    "trimlimits1 = [\n",
    "    width1//2 - 3, width1//2 + 4,\n",
    "]\n",
    "ca1 = create_ca1D(length1, init, ca1_rule)\n",
    "\n",
    "fig, ax = plt.subplots(figsize = (5, 5))\n",
    "ax.matshow(np.array(ca1).transpose(), cmap =\"binary\")\n",
    "ax.invert_yaxis()\n",
    "ax.tick_params(axis='both', labelsize=10)\n",
    "\n",
    "\n",
    "rect = plt.Rectangle(\n",
    "    (0, trimlimits1[0]),\n",
    "    width = length1,\n",
    "    height = trimlimits1[1] - trimlimits1[0],\n",
    "    color = '#38A0A790'\n",
    ")\n",
    "ax.add_patch(rect)\n",
    "\n",
    "ax.arrow(x=5, y=65, dx=0, dy=15, width=0.5) \n",
    "\n",
    "ax.text(2, 58, \"Bass\", fontsize=10)"
   ]
  },
  {
   "cell_type": "code",
   "execution_count": 197,
   "metadata": {},
   "outputs": [],
   "source": [
    "array1_trim = strip_ca1D(ca1, limits = trimlimits1)"
   ]
  },
  {
   "cell_type": "code",
   "execution_count": 198,
   "metadata": {},
   "outputs": [
    {
     "data": {
      "text/plain": [
       "<Figure size 864x360 with 0 Axes>"
      ]
     },
     "metadata": {},
     "output_type": "display_data"
    },
    {
     "data": {
      "image/png": "[encoded data removed]",
      "text/plain": [
       "<Figure size 1152x144 with 1 Axes>"
      ]
     },
     "metadata": {
      "image/png": {
       "height": 80,
       "width": 920
      },
      "needs_background": "light"
     },
     "output_type": "display_data"
    }
   ],
   "source": [
    "arrays_trim = [array1_trim]\n",
    "plt.figure(figsize=(12, 5))\n",
    "plt.matshow(np.array(array1_trim).transpose(), cmap =\"binary\")\n",
    "plt.gca().invert_yaxis()\n",
    "plt.show()"
   ]
  },
  {
   "cell_type": "code",
   "execution_count": 199,
   "metadata": {},
   "outputs": [],
   "source": [
    "track1 = ca1D_to_stream(\n",
    "    array = array1_trim,\n",
    "    notes = ['C4', 'D4', 'Eb4', 'F4', 'G4', 'Ab4', 'Bb4'],\n",
    "    durations = [0.5, 0.5, 1, 2, 1, 1, 0.5, 1.5]\n",
    ")\n"
   ]
  },
  {
   "cell_type": "code",
   "execution_count": 200,
   "metadata": {},
   "outputs": [
    {
     "data": {
      "text/html": [
       "\n",
       "        <div id=\"midiPlayerDiv16862\"></div>\n",
       "        <link rel=\"stylesheet\" href=\"https://cuthbertLab.github.io/music21j/css/m21.css\">\n",
       "        \n",
       "        <script\n",
       "        src=\"https://cdnjs.cloudflare.com/ajax/libs/require.js/2.3.6/require.min.js\"\n",
       "        ></script>\n",
       "    \n",
       "        <script>\n",
       "        function midiPlayerDiv16862_play() {\n",
       "            const rq = require.config({\n",
       "                paths: {\n",
       "                    'music21': 'https://cuthbertLab.github.io/music21j/releases/music21.debug',\n",
       "                }\n",
       "            });\n",
       "            rq(['music21'], function(music21) {\n",
       "                mp = new music21.miditools.MidiPlayer();\n",
       "                mp.addPlayer(\"#midiPlayerDiv16862\");\n",
       "                mp.base64Load(\"data:audio/midi;base64,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\");\n",
       "            });\n",
       "        }\n",
       "        if (typeof require === 'undefined') {\n",
       "            setTimeout(midiPlayerDiv16862_play, 2000);\n",
       "        } else {\n",
       "            midiPlayerDiv16862_play();\n",
       "        }\n",
       "        </script>"
      ],
      "text/plain": [
       "<IPython.core.display.HTML object>"
      ]
     },
     "metadata": {},
     "output_type": "display_data"
    }
   ],
   "source": [
    "piece = stream.Stream()\n",
    "piece.insert(track1)\n",
    "piece.show('midi')\n",
    "piece.write('midi', 'ceullular.midi')\n",
    "pass"
   ]
  }
 ],
 "metadata": {
  "kernelspec": {
   "display_name": "Python 3",
   "language": "python",
   "name": "python3"
  },
  "language_info": {
   "codemirror_mode": {
    "name": "ipython",
    "version": 3
   },
   "file_extension": ".py",
   "mimetype": "text/x-python",
   "name": "python",
   "nbconvert_exporter": "python",
   "pygments_lexer": "ipython3",
   "version": "3.10.0"
  }
 },
 "nbformat": 4,
 "nbformat_minor": 2
}
